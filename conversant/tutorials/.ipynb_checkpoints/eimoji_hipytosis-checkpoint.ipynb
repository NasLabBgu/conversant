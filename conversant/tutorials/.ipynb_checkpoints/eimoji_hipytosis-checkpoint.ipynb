{
 "cells": [
  {
   "cell_type": "code",
   "execution_count": 1,
   "metadata": {
    "pycharm": {
     "is_executing": false
    }
   },
   "outputs": [],
   "source": [
    "#!pip install emoji_extractor"
   ]
  },
  {
   "cell_type": "code",
   "execution_count": 2,
   "metadata": {
    "pycharm": {
     "is_executing": false
    }
   },
   "outputs": [],
   "source": [
    "from io import IOBase\n",
    "from emoji_extractor.extract import Extractor\n",
    "from collections import defaultdict\n",
    "import os, gzip\n",
    "import json\n",
    "import time\n",
    "import pickle\n",
    "from datetime import datetime\n",
    "import pandas as pd\n",
    "\n",
    "extract = Extractor()"
   ]
  },
  {
   "cell_type": "code",
   "execution_count": 3,
   "metadata": {
    "pycharm": {
     "is_executing": false
    }
   },
   "outputs": [],
   "source": [
    "from typing import Iterable\n",
    "from collections import deque\n",
    "from tqdm import tqdm\n",
    "\n",
    "def count_lines(fd: IOBase):\n",
    "    current_position = fd.tell()\n",
    "    fd.seek(0)\n",
    "    num_lines = sum(1 for _ in fd)\n",
    "    fd.seek(current_position, 0)\n",
    "    return num_lines\n",
    "\n",
    "\n",
    "def separate_emoji_components(emoji: str) -> Iterable[str]:\n",
    "    yield from component in emoji:\n",
    "\n",
    "def count_emojis(data_path: str, output_path: str=None, ignore_retweets: bool=True) -> defaultdict(tuple):\n",
    "    \"\"\"\n",
    "    creates a dict of time series emoji counts of the form {date: (daily_tweet_count, {emoji: emoji_count})}\n",
    "    \"\"\"\n",
    "    res = defaultdict(list)\n",
    "    for file in sorted([os.listdir(data_path)[0]]):\n",
    "        if os.path.isfile(os.path.join(data_path, file)):\n",
    "            with gzip.open(os.path.join(data_path, file), 'rb') as f:\n",
    "                total_tweets = count_lines(f)\n",
    "                print(f\"Start Processing {total_tweets} tweets\")\n",
    "                for tweet in tqdm(f, total=total_tweets):\n",
    "                    tweet_json = json.loads(tweet)\n",
    "                    if 'limit' in tweet_json.keys():\n",
    "                        continue\n",
    "                    created_at = tweet_json[\"created_at\"] \n",
    "                    date_struct = time.strptime(created_at, '%a %b %d %H:%M:%S +0000 %Y')\n",
    "                    date = datetime(date_struct.tm_year, date_struct.tm_mon, date_struct.tm_mday).strftime('%Y-%m-%d')\n",
    "                    if 'retweeted_status' in tweet_json.keys():\n",
    "                        if ignore_retweets:\n",
    "                            continue\n",
    "                        if tweet_json['retweeted_status']['truncated']:\n",
    "                            text = tweet_json['retweeted_status']['extended_tweet']['full_text']\n",
    "                        else:\n",
    "                            text = tweet_json['retweeted_status']['text']\n",
    "                    elif tweet_json['truncated']:\n",
    "                        text = tweet_json['extended_tweet']['full_text']\n",
    "                    else:\n",
    "                        text = tweet_json['text']\n",
    "                    if date not in res.keys():\n",
    "                        res[date] = [0, defaultdict(int)]\n",
    "                    res[date][0] += 1\n",
    "                    count_emojis_dict = dict(extract.count_emoji(text, check_first=True))\n",
    "                    for emoji, count in count_emojis_dict.items():\n",
    "                        for component in separate_emoji_components(emoji):\n",
    "                            res[date][1][component] += count\n",
    "\n",
    "    if output_path:\n",
    "        with open(os.path.join(output_path, \"emoji_count_dict.pkl\"), \"wb\") as fout:\n",
    "            pickle.dump(res, fout)\n",
    "    return res"
   ]
  },
  {
   "cell_type": "code",
   "execution_count": 4,
   "metadata": {
    "pycharm": {
     "is_executing": false
    }
   },
   "outputs": [
    {
     "name": "stderr",
     "output_type": "stream",
     "text": [
      "100%|██████████| 192751/192751 [02:31<00:00, 1273.08it/s]\n"
     ]
    },
    {
     "name": "stdout",
     "output_type": "stream",
     "text": [
      "Start Processing 192751 tweets\n"
     ]
    }
   ],
   "source": [
    "import os\n",
    "\n",
    "\n",
    "data_path = os.path.join(\"data\")\n",
    "count_moji = count_emojis(data_path)"
   ]
  },
  {
   "cell_type": "code",
   "execution_count": 5,
   "metadata": {
    "pycharm": {
     "is_executing": false
    }
   },
   "outputs": [],
   "source": [
    "holding_hands =  ['🙏']#, '🙏🏽', '🙏🏼', '🙏🏾']\n",
    "claping_hands = ['👏']#,'👏🏼']\n",
    "shaking_hands = ['🤝']\n",
    "names = ['holding_hands', 'claping_hands', 'shaking_hands']\n",
    "\n",
    "emojis = [holding_hands, claping_hands, shaking_hands]"
   ]
  },
  {
   "cell_type": "code",
   "execution_count": 6,
   "metadata": {
    "pycharm": {
     "is_executing": false
    }
   },
   "outputs": [],
   "source": [
    "def emoji_statistics(emoji_groups:list, counts:dict) -> pd.DataFrame:\n",
    "    data = []\n",
    "    for date in counts.keys():\n",
    "        posts_in_day = counts[date][0]\n",
    "        count = 0\n",
    "        day_data = {'date': date}\n",
    "        for i, emoji_group in enumerate(emoji_groups):\n",
    "            for moji in emoji_group:\n",
    "                count += counts[date][1][moji]\n",
    "            norm_count = (count / posts_in_day) * 100\n",
    "            day_data.update({names[i]: norm_count})\n",
    "        data.append(day_data)\n",
    "    return pd.DataFrame(data)\n",
    "        "
   ]
  },
  {
   "cell_type": "code",
   "execution_count": 7,
   "metadata": {
    "pycharm": {
     "is_executing": false
    }
   },
   "outputs": [],
   "source": [
    "df = emoji_statistics(emojis, count_moji)"
   ]
  },
  {
   "cell_type": "code",
   "execution_count": 8,
   "metadata": {
    "pycharm": {
     "is_executing": false
    }
   },
   "outputs": [
    {
     "data": {
      "text/html": [
       "<div>\n",
       "<style scoped>\n",
       "    .dataframe tbody tr th:only-of-type {\n",
       "        vertical-align: middle;\n",
       "    }\n",
       "\n",
       "    .dataframe tbody tr th {\n",
       "        vertical-align: top;\n",
       "    }\n",
       "\n",
       "    .dataframe thead th {\n",
       "        text-align: right;\n",
       "    }\n",
       "</style>\n",
       "<table border=\"1\" class=\"dataframe\">\n",
       "  <thead>\n",
       "    <tr style=\"text-align: right;\">\n",
       "      <th></th>\n",
       "      <th>date</th>\n",
       "      <th>holding_hands</th>\n",
       "      <th>claping_hands</th>\n",
       "      <th>shaking_hands</th>\n",
       "    </tr>\n",
       "  </thead>\n",
       "  <tbody>\n",
       "    <tr>\n",
       "      <th>0</th>\n",
       "      <td>2020-04-04</td>\n",
       "      <td>1.063363</td>\n",
       "      <td>1.578601</td>\n",
       "      <td>1.622451</td>\n",
       "    </tr>\n",
       "    <tr>\n",
       "      <th>1</th>\n",
       "      <td>2020-04-05</td>\n",
       "      <td>1.034383</td>\n",
       "      <td>1.421827</td>\n",
       "      <td>1.432639</td>\n",
       "    </tr>\n",
       "  </tbody>\n",
       "</table>\n",
       "</div>"
      ],
      "text/plain": [
       "         date  holding_hands  claping_hands  shaking_hands\n",
       "0  2020-04-04       1.063363       1.578601       1.622451\n",
       "1  2020-04-05       1.034383       1.421827       1.432639"
      ]
     },
     "execution_count": 8,
     "metadata": {},
     "output_type": "execute_result"
    }
   ],
   "source": [
    "df.head()"
   ]
  }
 ],
 "metadata": {
  "kernelspec": {
   "display_name": "Python 3",
   "language": "python",
   "name": "python3"
  },
  "language_info": {
   "codemirror_mode": {
    "name": "ipython",
    "version": 3
   },
   "file_extension": ".py",
   "mimetype": "text/x-python",
   "name": "python",
   "nbconvert_exporter": "python",
   "pygments_lexer": "ipython3",
   "version": "3.7.7"
  },
  "pycharm": {
   "stem_cell": {
    "cell_type": "raw",
    "metadata": {
     "collapsed": false
    },
    "source": []
   }
  },
  "toc": {
   "base_numbering": 1,
   "nav_menu": {},
   "number_sections": true,
   "sideBar": true,
   "skip_h1_title": false,
   "title_cell": "Table of Contents",
   "title_sidebar": "Contents",
   "toc_cell": false,
   "toc_position": {},
   "toc_section_display": true,
   "toc_window_display": false
  }
 },
 "nbformat": 4,
 "nbformat_minor": 2
}
