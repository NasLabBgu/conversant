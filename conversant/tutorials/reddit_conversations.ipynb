{
 "cells": [
  {
   "cell_type": "markdown",
   "metadata": {
    "collapsed": true,
    "pycharm": {
     "name": "#%% md\n"
    }
   },
   "source": [
    "<img src=\"https://i1.sndcdn.com/avatars-000274765548-vj7h0w-t500x500.jpg\" \n",
    "style='float:right; width:200px; margin: 0 20px;'>\n",
    "\n",
    "# Reddit Conversations\n",
    "---\n",
    "Hand by hand walkthrough of conversant in reddit.\n"
   ]
  },
  {
   "cell_type": "markdown",
   "metadata": {
    "pycharm": {
     "name": "#%% md\n"
    }
   },
   "source": [
    "## Read Data\n",
    "Lets read conversation data from Change-My-View(CMV) data in pickle format.\n",
    "\n",
    "One option is to load the data to pandas dataframe"
   ]
  },
  {
   "cell_type": "code",
   "execution_count": 1,
   "metadata": {
    "hide_input": true
   },
   "outputs": [],
   "source": [
    "import logging\n",
    "\n",
    "logging.basicConfig(format='[%(asctime)s] %(levelname)s %(message)s',\n",
    "                    datefmt='%d/%m/%Y %H:%M:%S', level=logging.INFO)\n",
    "\n",
    "import matplotlib.pyplot as plt\n",
    "%matplotlib inline\n",
    "\n",
    "plt.rcParams['figure.dpi'] = 115"
   ]
  },
  {
   "cell_type": "code",
   "execution_count": 2,
   "metadata": {
    "pycharm": {
     "is_executing": false,
     "name": "#%%\n"
    }
   },
   "outputs": [
    {
     "name": "stderr",
     "output_type": "stream",
     "text": [
      "[04/03/2020 13:47:26] INFO Conversation sample has 3000 unique trees\n",
      "[04/03/2020 13:47:26] INFO Conversation sample has 21928 unique authors\n"
     ]
    },
    {
     "data": {
      "text/html": [
       "<div>\n",
       "<style scoped>\n",
       "    .dataframe tbody tr th:only-of-type {\n",
       "        vertical-align: middle;\n",
       "    }\n",
       "\n",
       "    .dataframe tbody tr th {\n",
       "        vertical-align: top;\n",
       "    }\n",
       "\n",
       "    .dataframe thead th {\n",
       "        text-align: right;\n",
       "    }\n",
       "</style>\n",
       "<table border=\"1\" class=\"dataframe\">\n",
       "  <thead>\n",
       "    <tr style=\"text-align: right;\">\n",
       "      <th></th>\n",
       "      <th>node_id</th>\n",
       "      <th>tree_id</th>\n",
       "      <th>timestamp</th>\n",
       "      <th>author</th>\n",
       "      <th>text</th>\n",
       "      <th>parent</th>\n",
       "      <th>index1</th>\n",
       "    </tr>\n",
       "  </thead>\n",
       "  <tbody>\n",
       "    <tr>\n",
       "      <th>616122</th>\n",
       "      <td>ddxcv9k</td>\n",
       "      <td>5uw4gv</td>\n",
       "      <td>1487474280</td>\n",
       "      <td>ShiningConcepts</td>\n",
       "      <td>I agree that they are not racist in the sense ...</td>\n",
       "      <td>616067</td>\n",
       "      <td>616122</td>\n",
       "    </tr>\n",
       "    <tr>\n",
       "      <th>137905</th>\n",
       "      <td>d5qruap</td>\n",
       "      <td>4uhr35</td>\n",
       "      <td>1469493044</td>\n",
       "      <td>quwertie</td>\n",
       "      <td>\"I know you are but what am I!\"</td>\n",
       "      <td>137904</td>\n",
       "      <td>137905</td>\n",
       "    </tr>\n",
       "    <tr>\n",
       "      <th>533463</th>\n",
       "      <td>dg17e1e</td>\n",
       "      <td>63enew</td>\n",
       "      <td>1491746886</td>\n",
       "      <td>goodolarchie</td>\n",
       "      <td>Nope, plurality is important here because wage...</td>\n",
       "      <td>533462</td>\n",
       "      <td>533463</td>\n",
       "    </tr>\n",
       "    <tr>\n",
       "      <th>608419</th>\n",
       "      <td>dkv0hnb</td>\n",
       "      <td>6q6ba2</td>\n",
       "      <td>1501277637</td>\n",
       "      <td>the_potato_hunter</td>\n",
       "      <td>But the president can't do things unilaterally...</td>\n",
       "      <td>608418</td>\n",
       "      <td>608419</td>\n",
       "    </tr>\n",
       "    <tr>\n",
       "      <th>138316</th>\n",
       "      <td>dnxgaug</td>\n",
       "      <td>74d68z</td>\n",
       "      <td>1507175217</td>\n",
       "      <td>jzpenny</td>\n",
       "      <td>You as well, for sure. Contentious subjects sh...</td>\n",
       "      <td>138315</td>\n",
       "      <td>138316</td>\n",
       "    </tr>\n",
       "  </tbody>\n",
       "</table>\n",
       "</div>"
      ],
      "text/plain": [
       "        node_id tree_id   timestamp             author  \\\n",
       "616122  ddxcv9k  5uw4gv  1487474280    ShiningConcepts   \n",
       "137905  d5qruap  4uhr35  1469493044           quwertie   \n",
       "533463  dg17e1e  63enew  1491746886       goodolarchie   \n",
       "608419  dkv0hnb  6q6ba2  1501277637  the_potato_hunter   \n",
       "138316  dnxgaug  74d68z  1507175217            jzpenny   \n",
       "\n",
       "                                                     text  parent  index1  \n",
       "616122  I agree that they are not racist in the sense ...  616067  616122  \n",
       "137905                    \"I know you are but what am I!\"  137904  137905  \n",
       "533463  Nope, plurality is important here because wage...  533462  533463  \n",
       "608419  But the president can't do things unilaterally...  608418  608419  \n",
       "138316  You as well, for sure. Contentious subjects sh...  138315  138316  "
      ]
     },
     "execution_count": 2,
     "metadata": {},
     "output_type": "execute_result"
    }
   ],
   "source": [
    "# reading data to pandas df\n",
    "from conversant.data.loaders.load import load2df\n",
    "\n",
    "cmv_df = load2df(path='./3000tree.pickle', input_format='pickle')\n",
    "cmv_df.sample(5)"
   ]
  },
  {
   "cell_type": "markdown",
   "metadata": {
    "pycharm": {
     "name": "#%% md\n"
    }
   },
   "source": [
    "Working with dataframes is not natural with conversation data. \n",
    "\n",
    "A better data type for conversation is trees. "
   ]
  },
  {
   "cell_type": "code",
   "execution_count": 3,
   "metadata": {
    "pycharm": {
     "is_executing": false,
     "name": "#%%\n"
    }
   },
   "outputs": [
    {
     "name": "stderr",
     "output_type": "stream",
     "text": [
      "[04/03/2020 13:47:26] INFO Conversation sample has 3000 unique trees\n",
      "[04/03/2020 13:47:26] INFO Conversation sample has 21928 unique authors\n",
      "[04/03/2020 13:48:01] INFO Done converting 3000 conversations to trees\n"
     ]
    }
   ],
   "source": [
    "from conversant.data.loaders.load import load2anytree\n",
    "\n",
    "# load conversation data to a dictionary like {'post_id' : AnyTree Node object}\n",
    "cmv = load2anytree(path='./3000tree.pickle', input_format='pickle')"
   ]
  },
  {
   "cell_type": "markdown",
   "metadata": {
    "pycharm": {
     "name": "#%% md\n"
    }
   },
   "source": [
    "cmv is a list of dictionaries. each dictionary contains one conversation tree in reddit cmv.\n",
    "\n",
    "We can print one random conversation structure. "
   ]
  },
  {
   "cell_type": "code",
   "execution_count": 4,
   "metadata": {
    "pycharm": {
     "is_executing": false,
     "name": "#%%\n"
    }
   },
   "outputs": [
    {
     "name": "stdout",
     "output_type": "stream",
     "text": [
      "[deleted]\n",
      "├── Hq3473\n",
      "│   └── [deleted]\n",
      "│       └── Hq3473\n",
      "│           └── [deleted]\n",
      "│               └── Hq3473\n",
      "├── ZEPHYREFTW\n",
      "├── Skelletorr\n",
      "├── [deleted]\n",
      "├── DylanTheVillyn\n",
      "│   └── [deleted]\n",
      "│       └── DylanTheVillyn\n",
      "├── Bengom\n",
      "├── SchiferlED\n",
      "├── teerre\n",
      "└── SordidDreams\n"
     ]
    }
   ],
   "source": [
    "from anytree import RenderTree\n",
    "\n",
    "random_root = cmv[9][457884]\n",
    "\n",
    "for pre, fill, node in RenderTree(random_root):\n",
    "    print(\"%s%s\" % (pre, node.author))\n"
   ]
  },
  {
   "cell_type": "code",
   "execution_count": 5,
   "metadata": {},
   "outputs": [
    {
     "data": {
      "text/plain": [
       "True"
      ]
     },
     "execution_count": 5,
     "metadata": {},
     "output_type": "execute_result"
    }
   ],
   "source": [
    "#TODO: add plotting of a tree\n",
    "from conversant.data.vizualizations.treeplots import print_tree\n",
    "\n",
    "print_tree(random_root, \"sample_tree.png\")"
   ]
  },
  {
   "cell_type": "markdown",
   "metadata": {},
   "source": [
    "<img src=\"sample_tree.png\" style='float:center; width:1000px; margin: 0 20px;'>"
   ]
  },
  {
   "cell_type": "markdown",
   "metadata": {
    "pycharm": {
     "name": "#%% md\n"
    }
   },
   "source": [
    "## Preprocessing\n",
    "We can use the pre-processing tools to do any number of known conversation processing.\n",
    "\n",
    "Each function supports both dataframe and AnyTree dictionary structures.\n",
    "\n",
    "Lets filter out posts that DeltaBot is thire author, and his descendents"
   ]
  },
  {
   "cell_type": "code",
   "execution_count": 6,
   "metadata": {
    "pycharm": {
     "is_executing": false,
     "name": "#%%\n"
    }
   },
   "outputs": [
    {
     "name": "stderr",
     "output_type": "stream",
     "text": [
      "[04/03/2020 13:48:01] INFO conversations are now free of DeltaBot and his descendents\n"
     ]
    }
   ],
   "source": [
    "from conversant.data.preprocessing.filters import filter_DeltaBot\n",
    "\n",
    "cmv = filter_DeltaBot(cmv)"
   ]
  },
  {
   "cell_type": "markdown",
   "metadata": {
    "pycharm": {
     "is_executing": false,
     "name": "#%% md\n"
    }
   },
   "source": [
    "## Enrichment \n",
    "We can use enrichment to add new relevant data to our conversation data. \n",
    "Each function supports both dataframe and AnyTree dictionary structures.\n",
    "Enrichment's can be done with text data or using the structure of the conversation.\n",
    "\n",
    "Let's add a new feature called \"clean_text\" which is a processed version of the \"text\" field"
   ]
  },
  {
   "cell_type": "code",
   "execution_count": 7,
   "metadata": {
    "pycharm": {
     "is_executing": false,
     "name": "#%%\n"
    }
   },
   "outputs": [
    {
     "name": "stderr",
     "output_type": "stream",
     "text": [
      "[04/03/2020 13:48:15] INFO Example clean text\n"
     ]
    },
    {
     "name": "stdout",
     "output_type": "stream",
     "text": [
      "_mention_ op has awarded at least one delta in this post all comments that earned deltas from op or other users are listed here r deltalog comments 5w2rg4 in r deltalog please note that a change of view does not necessarily mean a reversal https www reddit com r changemyview wiki index wiki_what_is_a_ 27view 27 3f or that the conversation has ended delta system explained https www reddit com r changemyview wiki deltasystem deltaboards https www reddit com r changemyview wiki deltaboards\n"
     ]
    }
   ],
   "source": [
    "from conversant.data.enrichment.textual import clean_text_field\n",
    "\n",
    "cmv_df = clean_text_field(cmv_df)\n",
    "\n",
    "logging.info('Example clean text')\n",
    "\n",
    "print(cmv_df.clean_text.sample(1).values[0])"
   ]
  },
  {
   "cell_type": "markdown",
   "metadata": {
    "pycharm": {
     "is_executing": false,
     "name": "#%% md\n"
    }
   },
   "source": [
    "## Analysis\n",
    "\n",
    "We might want to run some exploratory data analysis (EDA) on our conversational data. \n",
    "\n",
    "Let's plot the percentiles of the number of posts per conversation."
   ]
  },
  {
   "cell_type": "code",
   "execution_count": 8,
   "metadata": {},
   "outputs": [
    {
     "data": {
      "image/png": "[encoded data removed]",
      "text/plain": [
       "<Figure size 720x360 with 1 Axes>"
      ]
     },
     "metadata": {
      "needs_background": "light"
     },
     "output_type": "display_data"
    },
    {
     "data": {
      "text/plain": [
       "True"
      ]
     },
     "execution_count": 8,
     "metadata": {},
     "output_type": "execute_result"
    }
   ],
   "source": [
    "from conversant.data.explenatory_analysis.conversation_statistics import posts_per_conversation\n",
    "\n",
    "posts_per_conversation(cmv_df)"
   ]
  },
  {
   "cell_type": "markdown",
   "metadata": {
    "pycharm": {
     "name": "#%%\n"
    }
   },
   "source": [
    "## Upcoming features\n",
    "\n",
    "* boilerplate models\n",
    "* enrichment - interaction graph\n",
    "* enrichment - 3comm community detection? \n"
   ]
  }
 ],
 "metadata": {
  "kernelspec": {
   "display_name": "Python 3",
   "language": "python",
   "name": "python3"
  },
  "language_info": {
   "codemirror_mode": {
    "name": "ipython",
    "version": 3
   },
   "file_extension": ".py",
   "mimetype": "text/x-python",
   "name": "python",
   "nbconvert_exporter": "python",
   "pygments_lexer": "ipython3",
   "version": "3.7.1"
  },
  "pycharm": {
   "stem_cell": {
    "cell_type": "raw",
    "metadata": {
     "collapsed": false
    },
    "source": []
   }
  },
  "toc": {
   "base_numbering": 1,
   "nav_menu": {},
   "number_sections": true,
   "sideBar": true,
   "skip_h1_title": false,
   "title_cell": "Table of Contents",
   "title_sidebar": "Contents",
   "toc_cell": false,
   "toc_position": {},
   "toc_section_display": true,
   "toc_window_display": true
  }
 },
 "nbformat": 4,
 "nbformat_minor": 1
}
