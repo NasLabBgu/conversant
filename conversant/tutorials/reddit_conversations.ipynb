{
 "cells": [
  {
   "cell_type": "markdown",
   "metadata": {
    "collapsed": true,
    "pycharm": {
     "name": "#%% md\n"
    }
   },
   "source": [
    "<img src=\"https://i1.sndcdn.com/avatars-000274765548-vj7h0w-t500x500.jpg\" \n",
    "style='float:right; width:200px; margin: 0 20px;'>\n",
    "\n",
    "# Reddit Conversations\n",
    "---\n",
    "Hand by hand walkthrough of conversant in reddit.\n"
   ]
  },
  {
   "cell_type": "markdown",
   "source": [
    "## Read Data\n",
    "Lets read conversation data from Change-My-View(CMV) data in pickle format.\n",
    "\n",
    "One option is to load the data to pandas dataframe"
   ],
   "metadata": {
    "collapsed": false,
    "pycharm": {
     "name": "#%% md\n"
    }
   }
  },
  {
   "cell_type": "code",
   "execution_count": 12,
   "outputs": [
    {
     "name": "stderr",
     "text": [
      "[03/03/2020 11:25:22] INFO Conversation sample has 3000 unique trees\n",
      "[03/03/2020 11:25:22] INFO Conversation sample has 21928 unique authors\n"
     ],
     "output_type": "stream"
    },
    {
     "data": {
      "text/plain": "        node_id tree_id   timestamp           author  \\\n136700  dqhjk0v  7g9byy  1511922188      annoinferno   \n482873  dso4ihl  7qb35x  1515948387       Chantottie   \n394993  dgfj958  664k31  1492539685  Qwerty_Resident   \n148157  dt6gmdc  7snbz0  1516820106    aurojyoti_das   \n73265   dim7blb  6fw2as  1496903421   jabberwockxeno   \n\n                                                     text  parent  index1  \n136700  You think that people with addictions that are...  136699  136700  \n482873  I don’t know about “fairly common” or part of ...  482872  482873  \n394993  <quote>Envelope B contains 2$x with a probabil...  394967  394993  \n148157  Wow, rights of my family to life is an extreme...  148156  148157  \n73265   <quote> In general, most of the time people ta...   73245   73265  ",
      "text/html": "<div>\n<style scoped>\n    .dataframe tbody tr th:only-of-type {\n        vertical-align: middle;\n    }\n\n    .dataframe tbody tr th {\n        vertical-align: top;\n    }\n\n    .dataframe thead th {\n        text-align: right;\n    }\n</style>\n<table border=\"1\" class=\"dataframe\">\n  <thead>\n    <tr style=\"text-align: right;\">\n      <th></th>\n      <th>node_id</th>\n      <th>tree_id</th>\n      <th>timestamp</th>\n      <th>author</th>\n      <th>text</th>\n      <th>parent</th>\n      <th>index1</th>\n    </tr>\n  </thead>\n  <tbody>\n    <tr>\n      <th>136700</th>\n      <td>dqhjk0v</td>\n      <td>7g9byy</td>\n      <td>1511922188</td>\n      <td>annoinferno</td>\n      <td>You think that people with addictions that are...</td>\n      <td>136699</td>\n      <td>136700</td>\n    </tr>\n    <tr>\n      <th>482873</th>\n      <td>dso4ihl</td>\n      <td>7qb35x</td>\n      <td>1515948387</td>\n      <td>Chantottie</td>\n      <td>I don’t know about “fairly common” or part of ...</td>\n      <td>482872</td>\n      <td>482873</td>\n    </tr>\n    <tr>\n      <th>394993</th>\n      <td>dgfj958</td>\n      <td>664k31</td>\n      <td>1492539685</td>\n      <td>Qwerty_Resident</td>\n      <td>&lt;quote&gt;Envelope B contains 2$x with a probabil...</td>\n      <td>394967</td>\n      <td>394993</td>\n    </tr>\n    <tr>\n      <th>148157</th>\n      <td>dt6gmdc</td>\n      <td>7snbz0</td>\n      <td>1516820106</td>\n      <td>aurojyoti_das</td>\n      <td>Wow, rights of my family to life is an extreme...</td>\n      <td>148156</td>\n      <td>148157</td>\n    </tr>\n    <tr>\n      <th>73265</th>\n      <td>dim7blb</td>\n      <td>6fw2as</td>\n      <td>1496903421</td>\n      <td>jabberwockxeno</td>\n      <td>&lt;quote&gt; In general, most of the time people ta...</td>\n      <td>73245</td>\n      <td>73265</td>\n    </tr>\n  </tbody>\n</table>\n</div>"
     },
     "metadata": {},
     "output_type": "execute_result",
     "execution_count": 12
    }
   ],
   "source": [
    "# reading data to pandas df\n",
    "\n",
    "from conversant.data.loaders.load import load2df\n",
    "cmv_df = load2df(path='./3000tree.pickle', input_format='pickle')\n",
    "\n",
    "cmv_df.sample(5)"
   ],
   "metadata": {
    "collapsed": false,
    "pycharm": {
     "name": "#%%\n",
     "is_executing": false
    }
   }
  },
  {
   "cell_type": "markdown",
   "source": [
    "Working with dataframes is not natural with conversation data. \n",
    "\n",
    "A better way data type for conversation is trees. "
   ],
   "metadata": {
    "collapsed": false,
    "pycharm": {
     "name": "#%% md\n"
    }
   }
  },
  {
   "cell_type": "code",
   "execution_count": 1,
   "outputs": [
    {
     "name": "stderr",
     "text": [
      "[03/03/2020 11:00:31] INFO Conversation sample has 3000 unique trees\n",
      "[03/03/2020 11:00:31] INFO Conversation sample has 21928 unique authors\n",
      "[03/03/2020 11:01:09] INFO Done converting 3000 conversations to trees\n"
     ],
     "output_type": "stream"
    }
   ],
   "source": [
    "from conversant.data.loaders.load import load2anytree\n",
    "\n",
    "# load conversation data to a dictionary like {'post_id' : AnyTree Node object}\n",
    "cmv = load2anytree(path='./3000tree.pickle', input_format='pickle')"
   ],
   "metadata": {
    "collapsed": false,
    "pycharm": {
     "name": "#%%\n",
     "is_executing": false
    }
   }
  },
  {
   "cell_type": "markdown",
   "source": [
    "We can print one random conversation structure. "
   ],
   "metadata": {
    "collapsed": false,
    "pycharm": {
     "name": "#%% md\n"
    }
   }
  },
  {
   "cell_type": "code",
   "execution_count": 11,
   "outputs": [
    {
     "name": "stdout",
     "text": [
      "[deleted]\n",
      "├── Hq3473\n",
      "│   └── [deleted]\n",
      "│       └── Hq3473\n",
      "│           └── [deleted]\n",
      "│               └── Hq3473\n",
      "├── ZEPHYREFTW\n",
      "├── Skelletorr\n",
      "├── [deleted]\n",
      "├── DylanTheVillyn\n",
      "│   └── [deleted]\n",
      "│       └── DylanTheVillyn\n",
      "├── Bengom\n",
      "├── SchiferlED\n",
      "├── teerre\n",
      "└── SordidDreams\n"
     ],
     "output_type": "stream"
    }
   ],
   "source": [
    "from anytree import RenderTree\n",
    "\n",
    "random_root = cmv[9][457884]\n",
    "\n",
    "for pre, fill, node in RenderTree(random_root):\n",
    "    print(\"%s%s\" % (pre, node.author))\n"
   ],
   "metadata": {
    "collapsed": false,
    "pycharm": {
     "name": "#%%\n",
     "is_executing": false
    }
   }
  },
  {
   "cell_type": "markdown",
   "source": [
    "## Preprocessing\n",
    "We can use the pre-processing tools to do any number of known conversation processing.\n",
    "\n",
    "Each function supports both dataframe and AnyTree dictionary structures.\n",
    "\n",
    "Lets filter out tree conversations that have under 5 nodes."
   ],
   "metadata": {
    "collapsed": false,
    "pycharm": {
     "name": "#%% md\n"
    }
   }
  },
  {
   "cell_type": "code",
   "execution_count": 2,
   "outputs": [
    {
     "name": "stdout",
     "text": [
      "Number of trees in cmv dataset is 3000\n",
      "Number of trees after applying filter is 3000\n"
     ],
     "output_type": "stream"
    }
   ],
   "source": [
    "from conversant.data.preprocessing.filters import filter_under_n\n",
    "\n",
    "# filter trees under 5 nodes\n",
    "print(f'Number of trees in cmv dataset is {cmv.tree_id.nunique()}')\n",
    "\n",
    "#cmv = filter_under_n(cmv)\n",
    "\n",
    "print(f'Number of trees after applying filter is {cmv.tree_id.nunique()}')"
   ],
   "metadata": {
    "collapsed": false,
    "pycharm": {
     "name": "#%%\n",
     "is_executing": false
    }
   }
  },
  {
   "cell_type": "markdown",
   "source": [
    "## Enrichment \n",
    "We can use enrichment to add new relevant data to our conversation data. \n",
    "\n",
    "Each function supports both dataframe and AnyTree dictionary structures.\n",
    "\n",
    "Enrichment's can be done with text data or using the structure of the conversation.\n",
    "\n",
    "Let's add a new feature called \"clean_text\" which is a processed version of the \"text\" field"
   ],
   "metadata": {
    "collapsed": false,
    "pycharm": {
     "name": "#%% md\n",
     "is_executing": false
    }
   }
  },
  {
   "cell_type": "code",
   "execution_count": 18,
   "outputs": [
    {
     "name": "stdout",
     "text": [
      "Example clean text\n",
      "i do not have to walk down any philosophical rabbit holes all i have to do if look for any actual evidence that god exists and so far there is really none therefore i do not need anything else i am not starting with a conclusion i am simply seeking evidence and finding none and sure my deep analysis does not really pass your test but then again nothing says that it has to\n"
     ],
     "output_type": "stream"
    }
   ],
   "source": [
    "from conversant.data.enrichment.textual import clean_text_field\n",
    "\n",
    "cmv_df = clean_text_field(cmv_df)\n",
    "\n",
    "print('Example clean text:')\n",
    "print(cmv_df.clean_text.sample(1).values[0])"
   ],
   "metadata": {
    "collapsed": false,
    "pycharm": {
     "name": "#%%\n",
     "is_executing": false
    }
   }
  },
  {
   "cell_type": "markdown",
   "source": [
    "## Analysis\n",
    "\n",
    "We might want to run some exploratory data analysis (EDA) on our conversational data. \n",
    "\n",
    "Let's plot the percentiles of the number of posts per conversation."
   ],
   "metadata": {
    "collapsed": false,
    "pycharm": {
     "name": "#%% md\n",
     "is_executing": false
    }
   }
  },
  {
   "cell_type": "code",
   "execution_count": null,
   "outputs": [],
   "source": [
    " \n",
    "\n"
   ],
   "metadata": {
    "collapsed": false,
    "pycharm": {
     "name": "#%%\n"
    }
   }
  }
 ],
 "metadata": {
  "kernelspec": {
   "display_name": "Python 3",
   "language": "python",
   "name": "python3"
  },
  "language_info": {
   "codemirror_mode": {
    "name": "ipython",
    "version": 2
   },
   "file_extension": ".py",
   "mimetype": "text/x-python",
   "name": "python",
   "nbconvert_exporter": "python",
   "pygments_lexer": "ipython2",
   "version": "2.7.6"
  },
  "pycharm": {
   "stem_cell": {
    "cell_type": "raw",
    "source": [],
    "metadata": {
     "collapsed": false
    }
   }
  }
 },
 "nbformat": 4,
 "nbformat_minor": 0
}